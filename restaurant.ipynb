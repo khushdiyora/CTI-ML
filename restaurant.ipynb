{
 "cells": [
  {
   "cell_type": "code",
   "execution_count": null,
   "id": "1d220357-6846-4e21-9a42-19b917fefa1c",
   "metadata": {},
   "outputs": [],
   "source": []
  },
  {
   "cell_type": "code",
   "execution_count": null,
   "id": "1004ed2f-1bf1-476b-8fa3-93adece737d9",
   "metadata": {},
   "outputs": [],
   "source": [
    "import pandas as pd\n",
    "import geopandas as gpd\n",
    "import matplotlib.pyplot as plt\n",
    "import seaborn as sns\n",
    "import warnings\n",
    "from sklearn.model_selection import train_test_split\n",
    "from sklearn.linear_model import LinearRegression\n",
    "from sklearn.metrics import mean_squared_error, r2_score\n",
    "from sklearn.preprocessing import LabelEncoder\n",
    "from sklearn.metrics.pairwise import cosine_similarity\n",
    "from sklearn.ensemble import RandomForestClassifier\n",
    "from sklearn.metrics import classification_report, accuracy_score\n",
    "from sklearn.metrics import precision_score, recall_score\n"
   ]
  },
  {
   "cell_type": "code",
   "execution_count": null,
   "id": "a801b4f3-ace0-478d-aa1d-6c6266d0f7cc",
   "metadata": {},
   "outputs": [],
   "source": [
    "#Task 1: Predict Restaurant Ratings"
   ]
  },
  {
   "cell_type": "raw",
   "id": "a10c9f7f-4795-4555-8c0c-06f608d6cf4a",
   "metadata": {},
   "source": [
    "#step-1: Preprocess the dataset by handling missing values, encoding categorical variables, and splitting the data into training and testing sets."
   ]
  },
  {
   "cell_type": "raw",
   "id": "494f765e-ebe8-4a30-a3fb-5008d17db862",
   "metadata": {},
   "source": [
    "\n",
    "# Load dataset\n",
    "df = pd.read_csv('Dataset.csv')\n",
    "\n",
    "# Preprocessing\n",
    "df = df.dropna()  # Drop missing values\n",
    "\n",
    "# Encode categorical variables\n",
    "label_encoders = {}\n",
    "for column in df.select_dtypes(include=['object']).columns:\n",
    "    le = LabelEncoder()\n",
    "    df[column] = le.fit_transform(df[column])\n",
    "    label_encoders[column] = le\n",
    "\n",
    "# Features and target variable\n",
    "target_column = 'Aggregate rating'\n",
    "X = df.drop(target_column, axis=1)\n",
    "y = df[target_column]\n",
    "\n",
    "# Split the data\n",
    "X_train, X_test, y_train, y_test = train_test_split(X, y, test_size=0.2, random_state=42)"
   ]
  },
  {
   "cell_type": "raw",
   "id": "f64529b4-7db6-4f35-8321-ae269ad0567f",
   "metadata": {},
   "source": [
    "#step-2: PSelect a regression algorithm (e.g., linear regression, decision tree regression) and train it on the training data."
   ]
  },
  {
   "cell_type": "raw",
   "id": "172a0536-004d-46b2-90bd-987df63abd4d",
   "metadata": {
    "scrolled": true
   },
   "source": [
    "# Model training\n",
    "model = LinearRegression()\n",
    "model.fit(X_train, y_train)"
   ]
  },
  {
   "cell_type": "raw",
   "id": "2066c133-e9a7-4b89-a9e3-2f45ec43903e",
   "metadata": {},
   "source": [
    "#step-3: Evaluate the model's performance using appropriate regression metrics (e.g., mean squared error, R-squared) on the testing data."
   ]
  },
  {
   "cell_type": "raw",
   "id": "addb398b-33ef-4d09-bf29-1f03d7e35974",
   "metadata": {
    "scrolled": true
   },
   "source": [
    "\n",
    "# Prediction and Evaluation\n",
    "y_pred = model.predict(X_test)\n",
    "mse = mean_squared_error(y_test, y_pred)\n",
    "r2 = r2_score(y_test, y_pred)\n",
    "\n",
    "print(f'Mean Squared Error: {mse}')\n",
    "print(f'R-squared: {r2}')\n"
   ]
  },
  {
   "cell_type": "raw",
   "id": "0ef1575c-bfa2-47bc-bffa-0eb1629ec58a",
   "metadata": {},
   "source": [
    "#step-4: Interpret the model's results and analyze the most influential features affecting restaurant ratings."
   ]
  },
  {
   "cell_type": "raw",
   "id": "327a67de-52fb-4660-8c9e-0455cd26a579",
   "metadata": {
    "scrolled": true
   },
   "source": [
    "# Feature Importance (coefficients in case of linear regression)\n",
    "features = X.columns\n",
    "coefficients = model.coef_\n",
    "important_features = sorted(zip(features, coefficients), key=lambda x: abs(x[1]), reverse=True)\n",
    "print('Most influential features:')\n",
    "for feature, coef in important_features:\n",
    "    print(f'{feature}: {coef}')\n"
   ]
  },
  {
   "cell_type": "raw",
   "id": "bfc9ef3f-c5ed-4c02-b69b-5a26dba88de2",
   "metadata": {},
   "source": []
  },
  {
   "cell_type": "raw",
   "id": "2fb0b784-c232-43ba-b64b-e18642be63be",
   "metadata": {},
   "source": [
    "#Task 2: Restaurant Recommendation"
   ]
  },
  {
   "cell_type": "raw",
   "id": "fdef9350-4287-4740-9734-39aabc0000df",
   "metadata": {},
   "source": [
    "#Step 1: Preprocess the dataset"
   ]
  },
  {
   "cell_type": "raw",
   "id": "5202602b-3e61-495f-b2b0-fec4bdbedc4d",
   "metadata": {
    "scrolled": true
   },
   "source": [
    "\n",
    "\n",
    "# Load dataset\n",
    "df = pd.read_csv('Dataset.csv')\n",
    "\n",
    "# Preprocessing\n",
    "df = df.dropna()\n",
    "\n",
    "# Encode categorical variables\n",
    "label_encoders = {}\n",
    "for column in df.select_dtypes(include=['object']).columns:\n",
    "    le = LabelEncoder()\n",
    "    df[column] = le.fit_transform(df[column])\n",
    "    label_encoders[column] = le"
   ]
  },
  {
   "cell_type": "raw",
   "id": "94d6ec21-a439-4b45-9541-ebe3dd904b83",
   "metadata": {},
   "source": [
    "#Step 2: Determine the criteria for restaurant recommendations"
   ]
  },
  {
   "cell_type": "raw",
   "id": "349887ff-9796-4a17-bfd9-eb9723c5c12a",
   "metadata": {},
   "source": [
    "\n",
    "# Define user preferences (encoded values)\n",
    "user_preferences = {\n",
    "    'Cuisines': label_encoders['Cuisines'].transform(['Italian'])[0],  # Example preferences\n",
    "    'Price range': 2\n",
    "}\n"
   ]
  },
  {
   "cell_type": "raw",
   "id": "4fbaeacb-f3ec-40e9-bdcf-80675fd23141",
   "metadata": {},
   "source": [
    "#Step 3: Implement a content-based filtering approach"
   ]
  },
  {
   "cell_type": "raw",
   "id": "5858fd88-27a8-458f-9c92-edaf953e517e",
   "metadata": {},
   "source": [
    "# Create DataFrame for user preferences\n",
    "user_pref_df = pd.DataFrame([user_preferences])\n",
    "\n",
    "# Create vectors for cosine similarity calculation\n",
    "def recommend_restaurants(user_pref_df, dataset):\n",
    "    recommendations = []\n",
    "    for index, row in dataset.iterrows():\n",
    "        restaurant_vector = row[['Cuisines', 'Price range']].values.reshape(1, -1)\n",
    "        pref_vector = user_pref_df[['Cuisines', 'Price range']].values\n",
    "        similarity = cosine_similarity(pref_vector, restaurant_vector)\n",
    "        recommendations.append((index, similarity[0][0]))\n",
    "    recommendations = sorted(recommendations, key=lambda x: x[1], reverse=True)\n",
    "    return recommendations"
   ]
  },
  {
   "cell_type": "raw",
   "id": "40ebb1d2-9556-4d3f-a392-1dd9550c0e09",
   "metadata": {},
   "source": [
    "#Step 4: Test the recommendation system"
   ]
  },
  {
   "cell_type": "raw",
   "id": "66ec077f-2dbf-43cb-befd-3dbc74556ecc",
   "metadata": {
    "scrolled": true
   },
   "source": [
    "# Calculate recommendations\n",
    "recommendations = recommend_restaurants(user_pref_df, df)\n",
    "\n",
    "# Debugging: Print recommendations and indices\n",
    "print('Recommendations:', recommendations)\n",
    "print('DataFrame shape:', df.shape)\n",
    "\n",
    "print('Recommended restaurants:')\n",
    "for index, score in recommendations:\n",
    "    if 0 <= index < df.shape[0]:  # Ensure index is within bounds\n",
    "        print(df.iloc[index])\n",
    "    else:\n",
    "        print(f'Index {index} is out of bounds')\n"
   ]
  },
  {
   "cell_type": "raw",
   "id": "c7f0332a-813e-4642-b3de-aec99047b909",
   "metadata": {},
   "source": [
    "#Task 3: Cuisine Classification"
   ]
  },
  {
   "cell_type": "raw",
   "id": "2f81a644-d5e4-45b2-b2b3-cf0455e98d18",
   "metadata": {},
   "source": [
    "#Step 1: Preprocess the dataset"
   ]
  },
  {
   "cell_type": "raw",
   "id": "b7e33d7c-6716-4939-8ac4-5d0715d5f8c9",
   "metadata": {
    "scrolled": true
   },
   "source": [
    "\n",
    "\n",
    "# Load dataset\n",
    "df = pd.read_csv('Dataset.csv')\n",
    "\n",
    "# Preprocessing\n",
    "df = df.dropna()\n",
    "df['Cuisines'] = df['Cuisines'].astype(str)  # Ensure 'Cuisines' is treated as a string for encoding\n",
    "\n",
    "# Encode categorical variables\n",
    "label_encoders = {}\n",
    "for column in df.select_dtypes(include=['object']).columns:\n",
    "    le = LabelEncoder()\n",
    "    df[column] = le.fit_transform(df[column])\n",
    "    label_encoders[column] = le"
   ]
  },
  {
   "cell_type": "raw",
   "id": "fe895758-a31e-43fa-a74c-ae6ff41102b9",
   "metadata": {},
   "source": [
    "#Step 2: Split the data into training and testing sets"
   ]
  },
  {
   "cell_type": "raw",
   "id": "e0429b21-d394-4619-8e99-62cbf0700caa",
   "metadata": {},
   "source": [
    "# Features and target variable\n",
    "X = df.drop('Cuisines', axis=1)  # Assuming 'Cuisines' is the target variable\n",
    "y = df['Cuisines']\n",
    "\n",
    "# Split the data\n",
    "X_train, X_test, y_train, y_test = train_test_split(X, y, test_size=0.3, random_state=42)"
   ]
  },
  {
   "cell_type": "raw",
   "id": "f2ba81c1-caa5-4441-a2e1-b42cb3f7fcc9",
   "metadata": {},
   "source": [
    "#Step 3: Select a classification algorithm and train it on the training data"
   ]
  },
  {
   "cell_type": "raw",
   "id": "6189a0a9-5940-4ebb-b174-619d0669b3de",
   "metadata": {},
   "source": [
    "# Train a classifier\n",
    "clf = RandomForestClassifier(n_estimators=100, random_state=42)\n",
    "clf.fit(X_train, y_train)"
   ]
  },
  {
   "cell_type": "raw",
   "id": "1fc9d95f-6276-4480-b726-60756781189e",
   "metadata": {},
   "source": [
    "#Step 4: Evaluate the model's performance"
   ]
  },
  {
   "cell_type": "raw",
   "id": "6dbe23db-07a2-4499-b8f5-23d56715a850",
   "metadata": {
    "scrolled": true
   },
   "source": [
    "# Predict\n",
    "y_pred = clf.predict(X_test)\n",
    "\n",
    "# Evaluate\n",
    "print(\"Accuracy:\", accuracy_score(y_test, y_pred))\n",
    "print(\"Classification Report:\")\n",
    "print(classification_report(y_test, y_pred, zero_division=1))  # Handle undefined metrics"
   ]
  },
  {
   "cell_type": "raw",
   "id": "49678b2e-f4c8-47c7-a17e-84a64c491bc4",
   "metadata": {},
   "source": [
    "#Step 5: Analyze the model's performance across different cuisines"
   ]
  },
  {
   "cell_type": "raw",
   "id": "ca8e0c14-6d5e-41c3-b2d8-110e42a94aa5",
   "metadata": {
    "scrolled": true
   },
   "source": [
    "\n",
    "\n",
    "# Get the unique cuisines\n",
    "unique_cuisines = list(set(y_test))\n",
    "\n",
    "# Initialize a dictionary to store the performance metrics for each cuisine\n",
    "cuisine_performance = {}\n",
    "\n",
    "# Iterate over each unique cuisine\n",
    "for cuisine in unique_cuisines:\n",
    "    # Get the indices of the test samples that belong to the current cuisine\n",
    "    cuisine_indices = [i for i, x in enumerate(y_test) if x == cuisine]\n",
    "\n",
    "    # Get the predicted labels for the current cuisine\n",
    "    cuisine_pred = [y_pred[i] for i in cuisine_indices]\n",
    "\n",
    "    # Calculate the accuracy, precision, and recall for the current cuisine\n",
    "    accuracy = accuracy_score([cuisine] * len(cuisine_pred), cuisine_pred)\n",
    "    precision = precision_score([cuisine] * len(cuisine_pred), cuisine_pred, average='weighted', zero_division=1)\n",
    "    recall = recall_score([cuisine] * len(cuisine_pred), cuisine_pred, average='weighted', zero_division=1)\n",
    "\n",
    "    # Store the performance metrics in the dictionary\n",
    "    cuisine_performance[cuisine] = {\n",
    "        'accuracy': accuracy,\n",
    "        'precision': precision,\n",
    "        'recall': recall\n",
    "    }\n",
    "\n",
    "# Print the performance metrics for each cuisine\n",
    "for cuisine, metrics in cuisine_performance.items():\n",
    "    print(f\"Cuisine: {cuisine}\")\n",
    "    print(f\"Accuracy: {metrics['accuracy']:.3f}\")\n",
    "    print(f\"Precision: {metrics['precision']:.3f}\")\n",
    "    print(f\"Recall: {metrics['recall']:.3f}\")\n",
    "    print()"
   ]
  },
  {
   "cell_type": "raw",
   "id": "2bb777bd-ec44-4288-86c2-4d1f9b93b265",
   "metadata": {},
   "source": []
  },
  {
   "cell_type": "raw",
   "id": "10a6e9f1-ac66-47c1-9874-f0234d05bd6c",
   "metadata": {},
   "source": [
    "#Task 4: Location-based Analysis"
   ]
  },
  {
   "cell_type": "raw",
   "id": "b3e354ce-e551-48fd-9fad-f89c1eeca5cf",
   "metadata": {},
   "source": [
    "#step-1: Explore the latitude and longitude coordinates of the restaurants and visualize their distribution on a map."
   ]
  },
  {
   "cell_type": "raw",
   "id": "a9e01978-633a-4b4f-8a8c-7e385b3b406e",
   "metadata": {},
   "source": [
    "\n",
    "# Load your own data\n",
    "df = pd.read_csv('Dataset.csv')\n",
    "\n",
    "# Create GeoDataFrame\n",
    "geometry = gpd.points_from_xy(df['Longitude'], df['Latitude'])\n",
    "gdf = gpd.GeoDataFrame(df, geometry=geometry)\n"
   ]
  },
  {
   "cell_type": "raw",
   "id": "bdb738c6-4db8-4280-8635-821bd5ba686a",
   "metadata": {
    "scrolled": true
   },
   "source": [
    "# Load the Natural Earth dataset from the downloaded shapefile\n",
    "world = gpd.read_file('ne_110m_admin_0_countries.shp')\n",
    "\n",
    "# Plot distribution of restaurants\n",
    "fig, ax = plt.subplots(figsize=(15, 10))\n",
    "world.plot(ax=ax, color='lightgrey')\n",
    "gdf.plot(ax=ax, color='red', markersize=5, alpha=0.5, linestyle='None')\n",
    "plt.title('Distribution of Restaurants')\n",
    "plt.xlabel('Longitude')\n",
    "plt.ylabel('Latitude')\n",
    "plt.show()\n"
   ]
  },
  {
   "cell_type": "raw",
   "id": "4ec4898f-9841-4207-a89d-34eb065acc04",
   "metadata": {},
   "source": [
    "#step-2: Group the restaurants by city or locality and analyze the concentration of restaurants in different areas."
   ]
  },
  {
   "cell_type": "raw",
   "id": "3c5d7be9-97d5-416e-94d1-8b079e4bf9f7",
   "metadata": {
    "scrolled": true
   },
   "source": [
    "# Group by city and calculate the number of restaurants per city\n",
    "city_counts = df['City'].value_counts()\n",
    "\n",
    "# Group by locality and calculate the number of restaurants per locality\n",
    "locality_counts = df['Locality'].value_counts()\n",
    "\n",
    "# Display top 10 cities with most restaurants\n",
    "print(\"Top 10 Cities with Most Restaurants:\")\n",
    "print(city_counts.head(10))\n",
    "\n",
    "# Display top 10 localities with most restaurants\n",
    "print(\"Top 10 Localities with Most Restaurants:\")\n",
    "print(locality_counts.head(10))\n"
   ]
  },
  {
   "cell_type": "raw",
   "id": "9cb57202-cf52-49f7-b584-00ef56dc7be0",
   "metadata": {},
   "source": [
    "#step-3: Calculate statistics such as the average ratings, cuisines, or price ranges by city or locality."
   ]
  },
  {
   "cell_type": "raw",
   "id": "3b862d99-2f15-49db-ab6e-16f9f0e01c52",
   "metadata": {},
   "source": [
    "# Calculate average ratings and price ranges by city\n",
    "city_stats = df.groupby('City').agg({\n",
    "    'Aggregate rating': 'mean',\n",
    "    'Average Cost for two': 'mean',\n",
    "    'Price range': 'mean'\n",
    "})\n",
    "\n",
    "# Calculate average ratings and price ranges by locality\n",
    "locality_stats = df.groupby('Locality').agg({\n",
    "    'Aggregate rating': 'mean',\n",
    "    'Average Cost for two': 'mean',\n",
    "    'Price range': 'mean'\n",
    "})\n",
    "\n",
    "# Display the statistics\n",
    "print(\"Average Ratings, Cost, and Price Range by City:\")\n",
    "print(city_stats.head(10))\n",
    "\n",
    "print(\"Average Ratings, Cost, and Price Range by Locality:\")\n",
    "print(locality_stats.head(10))\n"
   ]
  },
  {
   "cell_type": "raw",
   "id": "fc670a62-3e4c-4b74-b9b5-2779025c4432",
   "metadata": {},
   "source": [
    "#step-4: Identify any interesting insights or patterns related to the locations of the restaurants.\n"
   ]
  },
  {
   "cell_type": "raw",
   "id": "ea2278c0-3f15-442a-82cb-9572deb04f86",
   "metadata": {
    "scrolled": true
   },
   "source": [
    "\n",
    "\n",
    "# Suppress warnings\n",
    "warnings.filterwarnings(\"ignore\")\n",
    "\n",
    "# Plot distribution of restaurants by city\n",
    "plt.figure(figsize=(12, 6))\n",
    "sns.barplot(x=city_counts.index, y=city_counts.values, palette='viridis')\n",
    "plt.xticks(rotation=90)\n",
    "plt.title('Number of Restaurants by City')\n",
    "plt.xlabel('City')\n",
    "plt.ylabel('Number of Restaurants')\n",
    "plt.tight_layout()  # Adjust layout to fit x-axis labels\n",
    "plt.show()\n",
    "\n",
    "# Plot average ratings by city\n",
    "plt.figure(figsize=(12, 6))\n",
    "sns.barplot(x=city_stats.index, y=city_stats['Aggregate rating'], palette='viridis')\n",
    "plt.xticks(rotation=90)\n",
    "plt.title('Average Ratings by City')\n",
    "plt.xlabel('City')\n",
    "plt.ylabel('Average Rating')\n",
    "plt.tight_layout()  # Adjust layout to fit x-axis labels\n",
    "plt.show()\n",
    "\n",
    "# Plot average price range by city\n",
    "plt.figure(figsize=(12, 6))\n",
    "sns.barplot(x=city_stats.index, y=city_stats['Price range'], palette='viridis')\n",
    "plt.xticks(rotation=90)\n",
    "plt.title('Average Price Range by City')\n",
    "plt.xlabel('City')\n",
    "plt.ylabel('Average Price Range')\n",
    "plt.tight_layout()  # Adjust layout to fit x-axis labels\n",
    "plt.show()"
   ]
  }
 ],
 "metadata": {
  "kernelspec": {
   "display_name": "Python 3 (ipykernel)",
   "language": "python",
   "name": "python3"
  },
  "language_info": {
   "codemirror_mode": {
    "name": "ipython",
    "version": 3
   },
   "file_extension": ".py",
   "mimetype": "text/x-python",
   "name": "python",
   "nbconvert_exporter": "python",
   "pygments_lexer": "ipython3",
   "version": "3.12.4"
  }
 },
 "nbformat": 4,
 "nbformat_minor": 5
}
